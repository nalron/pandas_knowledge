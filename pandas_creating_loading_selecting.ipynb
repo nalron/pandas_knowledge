{
 "cells": [
  {
   "cell_type": "markdown",
   "metadata": {},
   "source": [
    "### Pandas - Creating, Loading, and Selecting a DataFrame.\n",
    "Pandas is an open source, easy-to-use data structures and data analysis tools for the Python programming language.\n",
    "- Creating a table from scratch.\n",
    "- Loading data from another file.\n",
    "- Selecting certain rows or columns of a table."
   ]
  },
  {
   "cell_type": "code",
   "execution_count": 1,
   "metadata": {},
   "outputs": [],
   "source": [
    "# Import Pandas Module:\n",
    "# Pandas Module is usually imported at the top of a Python file under the alias pd.\n",
    "import pandas as pd"
   ]
  },
  {
   "cell_type": "code",
   "execution_count": 2,
   "metadata": {},
   "outputs": [
    {
     "data": {
      "text/html": [
       "<div>\n",
       "<style scoped>\n",
       "    .dataframe tbody tr th:only-of-type {\n",
       "        vertical-align: middle;\n",
       "    }\n",
       "\n",
       "    .dataframe tbody tr th {\n",
       "        vertical-align: top;\n",
       "    }\n",
       "\n",
       "    .dataframe thead th {\n",
       "        text-align: right;\n",
       "    }\n",
       "</style>\n",
       "<table border=\"1\" class=\"dataframe\">\n",
       "  <thead>\n",
       "    <tr style=\"text-align: right;\">\n",
       "      <th></th>\n",
       "      <th>age</th>\n",
       "      <th>first_name</th>\n",
       "      <th>last_name</th>\n",
       "      <th>scoring</th>\n",
       "    </tr>\n",
       "  </thead>\n",
       "  <tbody>\n",
       "    <tr>\n",
       "      <th>0</th>\n",
       "      <td>22</td>\n",
       "      <td>Chris</td>\n",
       "      <td>Ally</td>\n",
       "      <td>3</td>\n",
       "    </tr>\n",
       "    <tr>\n",
       "      <th>1</th>\n",
       "      <td>45</td>\n",
       "      <td>Jason</td>\n",
       "      <td>Sobsun</td>\n",
       "      <td>4</td>\n",
       "    </tr>\n",
       "    <tr>\n",
       "      <th>2</th>\n",
       "      <td>18</td>\n",
       "      <td>Ethane</td>\n",
       "      <td>Pasero</td>\n",
       "      <td>5</td>\n",
       "    </tr>\n",
       "    <tr>\n",
       "      <th>3</th>\n",
       "      <td>37</td>\n",
       "      <td>Julia</td>\n",
       "      <td>Ducruiz</td>\n",
       "      <td>1</td>\n",
       "    </tr>\n",
       "  </tbody>\n",
       "</table>\n",
       "</div>"
      ],
      "text/plain": [
       "   age first_name last_name  scoring\n",
       "0   22      Chris      Ally        3\n",
       "1   45      Jason    Sobsun        4\n",
       "2   18     Ethane    Pasero        5\n",
       "3   37      Julia   Ducruiz        1"
      ]
     },
     "execution_count": 2,
     "metadata": {},
     "output_type": "execute_result"
    }
   ],
   "source": [
    "# Create a DataFrame: a dictionary to pd.DataFrame(). \n",
    "# Each key is a column name and each value is a list of column values.\n",
    "# There's many ways to create a DF.\n",
    "\n",
    "raw_data = {\n",
    "    'first_name': ['Chris', 'Jason', 'Ethane', 'Julia'],\n",
    "    'last_name': ['Ally', 'Sobsun', 'Pasero', 'Ducruiz'],\n",
    "    'age': [22, 45, 18, 37],\n",
    "    'scoring': [3, 4, 5, 1]\n",
    "}\n",
    "\n",
    "pd.DataFrame(raw_data)"
   ]
  },
  {
   "cell_type": "code",
   "execution_count": 3,
   "metadata": {},
   "outputs": [
    {
     "data": {
      "text/html": [
       "<div>\n",
       "<style scoped>\n",
       "    .dataframe tbody tr th:only-of-type {\n",
       "        vertical-align: middle;\n",
       "    }\n",
       "\n",
       "    .dataframe tbody tr th {\n",
       "        vertical-align: top;\n",
       "    }\n",
       "\n",
       "    .dataframe thead th {\n",
       "        text-align: right;\n",
       "    }\n",
       "</style>\n",
       "<table border=\"1\" class=\"dataframe\">\n",
       "  <thead>\n",
       "    <tr style=\"text-align: right;\">\n",
       "      <th></th>\n",
       "      <th>first_name</th>\n",
       "      <th>last_name</th>\n",
       "      <th>age</th>\n",
       "      <th>scoring</th>\n",
       "    </tr>\n",
       "  </thead>\n",
       "  <tbody>\n",
       "    <tr>\n",
       "      <th>0</th>\n",
       "      <td>Chris</td>\n",
       "      <td>Ally</td>\n",
       "      <td>22</td>\n",
       "      <td>3</td>\n",
       "    </tr>\n",
       "    <tr>\n",
       "      <th>1</th>\n",
       "      <td>Jason</td>\n",
       "      <td>Sobsun</td>\n",
       "      <td>45</td>\n",
       "      <td>4</td>\n",
       "    </tr>\n",
       "    <tr>\n",
       "      <th>2</th>\n",
       "      <td>Ethane</td>\n",
       "      <td>Pasero</td>\n",
       "      <td>18</td>\n",
       "      <td>5</td>\n",
       "    </tr>\n",
       "    <tr>\n",
       "      <th>3</th>\n",
       "      <td>Julia</td>\n",
       "      <td>Ducruiz</td>\n",
       "      <td>37</td>\n",
       "      <td>1</td>\n",
       "    </tr>\n",
       "  </tbody>\n",
       "</table>\n",
       "</div>"
      ],
      "text/plain": [
       "  first_name last_name  age  scoring\n",
       "0      Chris      Ally   22        3\n",
       "1      Jason    Sobsun   45        4\n",
       "2     Ethane    Pasero   18        5\n",
       "3      Julia   Ducruiz   37        1"
      ]
     },
     "execution_count": 3,
     "metadata": {},
     "output_type": "execute_result"
    }
   ],
   "source": [
    "# Create a DataFrame: a list of lists to pd.DataFrame(). \n",
    "# Each one represents a row of data. Use the keyword argument columns to pass a list of column names.\n",
    "# !!! In this example, we can control the ordering of the columns because we use lists.\n",
    "\n",
    "df = pd.DataFrame([\n",
    "        ['Chris', 'Ally', 22, 3],\n",
    "        ['Jason', 'Sobsun', 45, 4],\n",
    "        ['Ethane', 'Pasero', 18, 5],\n",
    "        ['Julia', 'Ducruiz', 37, 1]],\n",
    "        \n",
    "        columns = ['first_name', 'last_name', 'age', 'scoring']\n",
    ")\n",
    "df"
   ]
  },
  {
   "cell_type": "code",
   "execution_count": 4,
   "metadata": {},
   "outputs": [
    {
     "data": {
      "text/html": [
       "<div>\n",
       "<style scoped>\n",
       "    .dataframe tbody tr th:only-of-type {\n",
       "        vertical-align: middle;\n",
       "    }\n",
       "\n",
       "    .dataframe tbody tr th {\n",
       "        vertical-align: top;\n",
       "    }\n",
       "\n",
       "    .dataframe thead th {\n",
       "        text-align: right;\n",
       "    }\n",
       "</style>\n",
       "<table border=\"1\" class=\"dataframe\">\n",
       "  <thead>\n",
       "    <tr style=\"text-align: right;\">\n",
       "      <th></th>\n",
       "      <th>Name</th>\n",
       "      <th>Username</th>\n",
       "      <th>Email</th>\n",
       "    </tr>\n",
       "  </thead>\n",
       "  <tbody>\n",
       "    <tr>\n",
       "      <th>0</th>\n",
       "      <td>Roger Smith</td>\n",
       "      <td>rsmith</td>\n",
       "      <td>wigginsryan@yahoo.com</td>\n",
       "    </tr>\n",
       "    <tr>\n",
       "      <th>1</th>\n",
       "      <td>Michelle Beck</td>\n",
       "      <td>mlbeck</td>\n",
       "      <td>hcosta@hotmail.com</td>\n",
       "    </tr>\n",
       "    <tr>\n",
       "      <th>2</th>\n",
       "      <td>Ashley Barker</td>\n",
       "      <td>a_bark_x</td>\n",
       "      <td>a_bark_x@turner.com</td>\n",
       "    </tr>\n",
       "    <tr>\n",
       "      <th>3</th>\n",
       "      <td>Lynn Gonzales</td>\n",
       "      <td>goodmanjames</td>\n",
       "      <td>lynniegonz@hotmail.com</td>\n",
       "    </tr>\n",
       "    <tr>\n",
       "      <th>4</th>\n",
       "      <td>Jennifer Chase</td>\n",
       "      <td>chasej</td>\n",
       "      <td>jchase@ramirez.com</td>\n",
       "    </tr>\n",
       "    <tr>\n",
       "      <th>5</th>\n",
       "      <td>Charles Hoover</td>\n",
       "      <td>choover</td>\n",
       "      <td>choover89@yahoo.com</td>\n",
       "    </tr>\n",
       "    <tr>\n",
       "      <th>6</th>\n",
       "      <td>Adrian Evans</td>\n",
       "      <td>adevans</td>\n",
       "      <td>adevans98@yahoo.com</td>\n",
       "    </tr>\n",
       "    <tr>\n",
       "      <th>7</th>\n",
       "      <td>Susan Walter</td>\n",
       "      <td>susan82</td>\n",
       "      <td>swilliams@yahoo.com</td>\n",
       "    </tr>\n",
       "    <tr>\n",
       "      <th>8</th>\n",
       "      <td>Stephanie King</td>\n",
       "      <td>stephanieking</td>\n",
       "      <td>sking@morris-tyler.com</td>\n",
       "    </tr>\n",
       "    <tr>\n",
       "      <th>9</th>\n",
       "      <td>Erika Miller</td>\n",
       "      <td>jessica32</td>\n",
       "      <td>ejmiller79@yahoo.com</td>\n",
       "    </tr>\n",
       "  </tbody>\n",
       "</table>\n",
       "</div>"
      ],
      "text/plain": [
       "             Name       Username                   Email\n",
       "0     Roger Smith         rsmith   wigginsryan@yahoo.com\n",
       "1   Michelle Beck         mlbeck      hcosta@hotmail.com\n",
       "2   Ashley Barker       a_bark_x     a_bark_x@turner.com\n",
       "3   Lynn Gonzales   goodmanjames  lynniegonz@hotmail.com\n",
       "4  Jennifer Chase         chasej      jchase@ramirez.com\n",
       "5  Charles Hoover        choover     choover89@yahoo.com\n",
       "6    Adrian Evans        adevans     adevans98@yahoo.com\n",
       "7    Susan Walter        susan82     swilliams@yahoo.com\n",
       "8  Stephanie King  stephanieking  sking@morris-tyler.com\n",
       "9    Erika Miller      jessica32    ejmiller79@yahoo.com"
      ]
     },
     "execution_count": 4,
     "metadata": {},
     "output_type": "execute_result"
    }
   ],
   "source": [
    "# Load CSV file:\n",
    "# Load it with .read_csv()\n",
    "df_checklist = pd.read_csv('files/users.csv')\n",
    "df_checklist = pd.read_csv('files/users.csv', sep=';') # in this example, we use sep='' to get a better form.\n",
    "df_checklist"
   ]
  },
  {
   "cell_type": "code",
   "execution_count": 5,
   "metadata": {},
   "outputs": [
    {
     "data": {
      "text/html": [
       "<div>\n",
       "<style scoped>\n",
       "    .dataframe tbody tr th:only-of-type {\n",
       "        vertical-align: middle;\n",
       "    }\n",
       "\n",
       "    .dataframe tbody tr th {\n",
       "        vertical-align: top;\n",
       "    }\n",
       "\n",
       "    .dataframe thead th {\n",
       "        text-align: right;\n",
       "    }\n",
       "</style>\n",
       "<table border=\"1\" class=\"dataframe\">\n",
       "  <thead>\n",
       "    <tr style=\"text-align: right;\">\n",
       "      <th></th>\n",
       "      <th>#########################</th>\n",
       "    </tr>\n",
       "  </thead>\n",
       "  <tbody>\n",
       "    <tr>\n",
       "      <th>0</th>\n",
       "      <td>Python is cool!!!</td>\n",
       "    </tr>\n",
       "    <tr>\n",
       "      <th>1</th>\n",
       "      <td>#########################</td>\n",
       "    </tr>\n",
       "  </tbody>\n",
       "</table>\n",
       "</div>"
      ],
      "text/plain": [
       "   #########################\n",
       "0          Python is cool!!!\n",
       "1  #########################"
      ]
     },
     "execution_count": 5,
     "metadata": {},
     "output_type": "execute_result"
    }
   ],
   "source": [
    "# Load txt file with same way:\n",
    "df_users = pd.read_csv('files/welcome_user.txt')\n",
    "df_users"
   ]
  },
  {
   "cell_type": "code",
   "execution_count": 6,
   "metadata": {},
   "outputs": [
    {
     "data": {
      "text/html": [
       "<div>\n",
       "<style scoped>\n",
       "    .dataframe tbody tr th:only-of-type {\n",
       "        vertical-align: middle;\n",
       "    }\n",
       "\n",
       "    .dataframe tbody tr th {\n",
       "        vertical-align: top;\n",
       "    }\n",
       "\n",
       "    .dataframe thead th {\n",
       "        text-align: right;\n",
       "    }\n",
       "</style>\n",
       "<table border=\"1\" class=\"dataframe\">\n",
       "  <thead>\n",
       "    <tr style=\"text-align: right;\">\n",
       "      <th></th>\n",
       "      <th>DEPT_DESC</th>\n",
       "      <th>DEPT_SHORT_DESC</th>\n",
       "      <th>VACANCY</th>\n",
       "      <th>APPLICATION_COUNT</th>\n",
       "      <th>HIRE_COUNT</th>\n",
       "      <th>RECEIVED_DATE</th>\n",
       "      <th>APPROVED_DATE</th>\n",
       "      <th>OPEN_DATE</th>\n",
       "      <th>CLOSE_DATE</th>\n",
       "      <th>ISSUE_DATE</th>\n",
       "      <th>REFERRAL_RETURNED</th>\n",
       "      <th>POS_OFFERED</th>\n",
       "      <th>VAC_LOCATION</th>\n",
       "      <th>HIRED_DATE</th>\n",
       "      <th>SERIES</th>\n",
       "    </tr>\n",
       "  </thead>\n",
       "  <tbody>\n",
       "    <tr>\n",
       "      <th>0</th>\n",
       "      <td>(7P) Office of the Assist. Regional Administra...</td>\n",
       "      <td>7</td>\n",
       "      <td>471551</td>\n",
       "      <td>38</td>\n",
       "      <td>1</td>\n",
       "      <td>2004-08-18</td>\n",
       "      <td>2004-08-19</td>\n",
       "      <td>2004-08-19</td>\n",
       "      <td>2004-09-17</td>\n",
       "      <td>2004-10-01</td>\n",
       "      <td>2004-11-05</td>\n",
       "      <td>2004-11-05</td>\n",
       "      <td>Fort Worth, TX</td>\n",
       "      <td>2004-11-14</td>\n",
       "      <td>0301AU</td>\n",
       "    </tr>\n",
       "    <tr>\n",
       "      <th>1</th>\n",
       "      <td>(7P) Office of the Assist. Regional Administra...</td>\n",
       "      <td>7</td>\n",
       "      <td>471811</td>\n",
       "      <td>9</td>\n",
       "      <td>1</td>\n",
       "      <td>2004-09-17</td>\n",
       "      <td>2004-09-20</td>\n",
       "      <td>2004-09-20</td>\n",
       "      <td>2004-10-04</td>\n",
       "      <td>2004-10-13</td>\n",
       "      <td>2004-11-05</td>\n",
       "      <td>2004-11-05</td>\n",
       "      <td>Fort Worth, TX</td>\n",
       "      <td>2004-11-14</td>\n",
       "      <td>0343B</td>\n",
       "    </tr>\n",
       "    <tr>\n",
       "      <th>2</th>\n",
       "      <td>(7P) Office of the Assist. Regional Administra...</td>\n",
       "      <td>7</td>\n",
       "      <td>471811</td>\n",
       "      <td>9</td>\n",
       "      <td>1</td>\n",
       "      <td>2004-09-17</td>\n",
       "      <td>2004-09-20</td>\n",
       "      <td>2004-09-20</td>\n",
       "      <td>2004-10-04</td>\n",
       "      <td>2004-10-13</td>\n",
       "      <td>2004-11-05</td>\n",
       "      <td>2004-11-05</td>\n",
       "      <td>Fort Worth, TX</td>\n",
       "      <td>2004-11-14</td>\n",
       "      <td>0343B</td>\n",
       "    </tr>\n",
       "  </tbody>\n",
       "</table>\n",
       "</div>"
      ],
      "text/plain": [
       "                                           DEPT_DESC DEPT_SHORT_DESC VACANCY  \\\n",
       "0  (7P) Office of the Assist. Regional Administra...               7  471551   \n",
       "1  (7P) Office of the Assist. Regional Administra...               7  471811   \n",
       "2  (7P) Office of the Assist. Regional Administra...               7  471811   \n",
       "\n",
       "   APPLICATION_COUNT  HIRE_COUNT RECEIVED_DATE APPROVED_DATE  OPEN_DATE  \\\n",
       "0                 38           1    2004-08-18    2004-08-19 2004-08-19   \n",
       "1                  9           1    2004-09-17    2004-09-20 2004-09-20   \n",
       "2                  9           1    2004-09-17    2004-09-20 2004-09-20   \n",
       "\n",
       "  CLOSE_DATE ISSUE_DATE REFERRAL_RETURNED POS_OFFERED    VAC_LOCATION  \\\n",
       "0 2004-09-17 2004-10-01        2004-11-05  2004-11-05  Fort Worth, TX   \n",
       "1 2004-10-04 2004-10-13        2004-11-05  2004-11-05  Fort Worth, TX   \n",
       "2 2004-10-04 2004-10-13        2004-11-05  2004-11-05  Fort Worth, TX   \n",
       "\n",
       "  HIRED_DATE  SERIES  \n",
       "0 2004-11-14  0301AU  \n",
       "1 2004-11-14   0343B  \n",
       "2 2004-11-14   0343B  "
      ]
     },
     "execution_count": 6,
     "metadata": {},
     "output_type": "execute_result"
    }
   ],
   "source": [
    "# Load xls file with same way:\n",
    "# Dataset on https://catalog.data.gov/dataset/time-to-hire\n",
    "# This dataset represents time taken to hire a GSA employee from the internal request to hire \n",
    "# through the entry on duty of the of the selected individual.\n",
    "gsa_time_hire = pd.read_excel('files/time-to-hire-data-file.xlsx')\n",
    "gsa_time_hire.head(3)"
   ]
  },
  {
   "cell_type": "code",
   "execution_count": 7,
   "metadata": {},
   "outputs": [],
   "source": [
    "# Save CSV file:\n",
    "# Save it with .to_csv\n",
    "# We take the Dataframe df (seen above)\n",
    "df.to_csv('files/csv_file.csv')"
   ]
  },
  {
   "cell_type": "code",
   "execution_count": 8,
   "metadata": {},
   "outputs": [
    {
     "data": {
      "text/html": [
       "<div>\n",
       "<style scoped>\n",
       "    .dataframe tbody tr th:only-of-type {\n",
       "        vertical-align: middle;\n",
       "    }\n",
       "\n",
       "    .dataframe tbody tr th {\n",
       "        vertical-align: top;\n",
       "    }\n",
       "\n",
       "    .dataframe thead th {\n",
       "        text-align: right;\n",
       "    }\n",
       "</style>\n",
       "<table border=\"1\" class=\"dataframe\">\n",
       "  <thead>\n",
       "    <tr style=\"text-align: right;\">\n",
       "      <th></th>\n",
       "      <th>Name</th>\n",
       "      <th>Username</th>\n",
       "      <th>Email</th>\n",
       "    </tr>\n",
       "  </thead>\n",
       "  <tbody>\n",
       "    <tr>\n",
       "      <th>0</th>\n",
       "      <td>Roger Smith</td>\n",
       "      <td>rsmith</td>\n",
       "      <td>wigginsryan@yahoo.com</td>\n",
       "    </tr>\n",
       "    <tr>\n",
       "      <th>1</th>\n",
       "      <td>Michelle Beck</td>\n",
       "      <td>mlbeck</td>\n",
       "      <td>hcosta@hotmail.com</td>\n",
       "    </tr>\n",
       "    <tr>\n",
       "      <th>2</th>\n",
       "      <td>Ashley Barker</td>\n",
       "      <td>a_bark_x</td>\n",
       "      <td>a_bark_x@turner.com</td>\n",
       "    </tr>\n",
       "    <tr>\n",
       "      <th>3</th>\n",
       "      <td>Lynn Gonzales</td>\n",
       "      <td>goodmanjames</td>\n",
       "      <td>lynniegonz@hotmail.com</td>\n",
       "    </tr>\n",
       "    <tr>\n",
       "      <th>4</th>\n",
       "      <td>Jennifer Chase</td>\n",
       "      <td>chasej</td>\n",
       "      <td>jchase@ramirez.com</td>\n",
       "    </tr>\n",
       "  </tbody>\n",
       "</table>\n",
       "</div>"
      ],
      "text/plain": [
       "             Name      Username                   Email\n",
       "0     Roger Smith        rsmith   wigginsryan@yahoo.com\n",
       "1   Michelle Beck        mlbeck      hcosta@hotmail.com\n",
       "2   Ashley Barker      a_bark_x     a_bark_x@turner.com\n",
       "3   Lynn Gonzales  goodmanjames  lynniegonz@hotmail.com\n",
       "4  Jennifer Chase        chasej      jchase@ramirez.com"
      ]
     },
     "execution_count": 8,
     "metadata": {},
     "output_type": "execute_result"
    }
   ],
   "source": [
    "# Inspect a DataFrame:\n",
    "# .head() method - get the first 5 rows of a DataFrame.\n",
    "# .tail() method - get the last 5 rows of a DataFrame.\n",
    "# .info() method - get some statistics for each column.\n",
    "df_checklist.head()"
   ]
  },
  {
   "cell_type": "code",
   "execution_count": 9,
   "metadata": {},
   "outputs": [
    {
     "data": {
      "text/html": [
       "<div>\n",
       "<style scoped>\n",
       "    .dataframe tbody tr th:only-of-type {\n",
       "        vertical-align: middle;\n",
       "    }\n",
       "\n",
       "    .dataframe tbody tr th {\n",
       "        vertical-align: top;\n",
       "    }\n",
       "\n",
       "    .dataframe thead th {\n",
       "        text-align: right;\n",
       "    }\n",
       "</style>\n",
       "<table border=\"1\" class=\"dataframe\">\n",
       "  <thead>\n",
       "    <tr style=\"text-align: right;\">\n",
       "      <th></th>\n",
       "      <th>Name</th>\n",
       "      <th>Username</th>\n",
       "      <th>Email</th>\n",
       "    </tr>\n",
       "  </thead>\n",
       "  <tbody>\n",
       "    <tr>\n",
       "      <th>5</th>\n",
       "      <td>Charles Hoover</td>\n",
       "      <td>choover</td>\n",
       "      <td>choover89@yahoo.com</td>\n",
       "    </tr>\n",
       "    <tr>\n",
       "      <th>6</th>\n",
       "      <td>Adrian Evans</td>\n",
       "      <td>adevans</td>\n",
       "      <td>adevans98@yahoo.com</td>\n",
       "    </tr>\n",
       "    <tr>\n",
       "      <th>7</th>\n",
       "      <td>Susan Walter</td>\n",
       "      <td>susan82</td>\n",
       "      <td>swilliams@yahoo.com</td>\n",
       "    </tr>\n",
       "    <tr>\n",
       "      <th>8</th>\n",
       "      <td>Stephanie King</td>\n",
       "      <td>stephanieking</td>\n",
       "      <td>sking@morris-tyler.com</td>\n",
       "    </tr>\n",
       "    <tr>\n",
       "      <th>9</th>\n",
       "      <td>Erika Miller</td>\n",
       "      <td>jessica32</td>\n",
       "      <td>ejmiller79@yahoo.com</td>\n",
       "    </tr>\n",
       "  </tbody>\n",
       "</table>\n",
       "</div>"
      ],
      "text/plain": [
       "             Name       Username                   Email\n",
       "5  Charles Hoover        choover     choover89@yahoo.com\n",
       "6    Adrian Evans        adevans     adevans98@yahoo.com\n",
       "7    Susan Walter        susan82     swilliams@yahoo.com\n",
       "8  Stephanie King  stephanieking  sking@morris-tyler.com\n",
       "9    Erika Miller      jessica32    ejmiller79@yahoo.com"
      ]
     },
     "execution_count": 9,
     "metadata": {},
     "output_type": "execute_result"
    }
   ],
   "source": [
    "df_checklist.tail()"
   ]
  },
  {
   "cell_type": "code",
   "execution_count": 10,
   "metadata": {},
   "outputs": [
    {
     "name": "stdout",
     "output_type": "stream",
     "text": [
      "<class 'pandas.core.frame.DataFrame'>\n",
      "RangeIndex: 10 entries, 0 to 9\n",
      "Data columns (total 3 columns):\n",
      "Name        10 non-null object\n",
      "Username    10 non-null object\n",
      "Email       10 non-null object\n",
      "dtypes: object(3)\n",
      "memory usage: 320.0+ bytes\n"
     ]
    }
   ],
   "source": [
    "# … Example .info() method\n",
    "df_checklist.info()"
   ]
  },
  {
   "cell_type": "code",
   "execution_count": 11,
   "metadata": {},
   "outputs": [
    {
     "data": {
      "text/html": [
       "<div>\n",
       "<style scoped>\n",
       "    .dataframe tbody tr th:only-of-type {\n",
       "        vertical-align: middle;\n",
       "    }\n",
       "\n",
       "    .dataframe tbody tr th {\n",
       "        vertical-align: top;\n",
       "    }\n",
       "\n",
       "    .dataframe thead th {\n",
       "        text-align: right;\n",
       "    }\n",
       "</style>\n",
       "<table border=\"1\" class=\"dataframe\">\n",
       "  <thead>\n",
       "    <tr style=\"text-align: right;\">\n",
       "      <th></th>\n",
       "      <th>Name</th>\n",
       "      <th>Username</th>\n",
       "      <th>Email</th>\n",
       "    </tr>\n",
       "  </thead>\n",
       "  <tbody>\n",
       "    <tr>\n",
       "      <th>0</th>\n",
       "      <td>Roger Smith</td>\n",
       "      <td>rsmith</td>\n",
       "      <td>wigginsryan@yahoo.com</td>\n",
       "    </tr>\n",
       "    <tr>\n",
       "      <th>1</th>\n",
       "      <td>Michelle Beck</td>\n",
       "      <td>mlbeck</td>\n",
       "      <td>hcosta@hotmail.com</td>\n",
       "    </tr>\n",
       "    <tr>\n",
       "      <th>2</th>\n",
       "      <td>Ashley Barker</td>\n",
       "      <td>a_bark_x</td>\n",
       "      <td>a_bark_x@turner.com</td>\n",
       "    </tr>\n",
       "    <tr>\n",
       "      <th>3</th>\n",
       "      <td>Lynn Gonzales</td>\n",
       "      <td>goodmanjames</td>\n",
       "      <td>lynniegonz@hotmail.com</td>\n",
       "    </tr>\n",
       "    <tr>\n",
       "      <th>4</th>\n",
       "      <td>Jennifer Chase</td>\n",
       "      <td>chasej</td>\n",
       "      <td>jchase@ramirez.com</td>\n",
       "    </tr>\n",
       "    <tr>\n",
       "      <th>5</th>\n",
       "      <td>Charles Hoover</td>\n",
       "      <td>choover</td>\n",
       "      <td>choover89@yahoo.com</td>\n",
       "    </tr>\n",
       "    <tr>\n",
       "      <th>6</th>\n",
       "      <td>Adrian Evans</td>\n",
       "      <td>adevans</td>\n",
       "      <td>adevans98@yahoo.com</td>\n",
       "    </tr>\n",
       "    <tr>\n",
       "      <th>7</th>\n",
       "      <td>Susan Walter</td>\n",
       "      <td>susan82</td>\n",
       "      <td>swilliams@yahoo.com</td>\n",
       "    </tr>\n",
       "  </tbody>\n",
       "</table>\n",
       "</div>"
      ],
      "text/plain": [
       "             Name      Username                   Email\n",
       "0     Roger Smith        rsmith   wigginsryan@yahoo.com\n",
       "1   Michelle Beck        mlbeck      hcosta@hotmail.com\n",
       "2   Ashley Barker      a_bark_x     a_bark_x@turner.com\n",
       "3   Lynn Gonzales  goodmanjames  lynniegonz@hotmail.com\n",
       "4  Jennifer Chase        chasej      jchase@ramirez.com\n",
       "5  Charles Hoover       choover     choover89@yahoo.com\n",
       "6    Adrian Evans       adevans     adevans98@yahoo.com\n",
       "7    Susan Walter       susan82     swilliams@yahoo.com"
      ]
     },
     "execution_count": 11,
     "metadata": {},
     "output_type": "execute_result"
    }
   ],
   "source": [
    "# head(n) and tail(n) methods get n = 5 by default\n",
    "# But n can be any number\n",
    "df_checklist.head(8)"
   ]
  },
  {
   "cell_type": "code",
   "execution_count": 12,
   "metadata": {},
   "outputs": [
    {
     "data": {
      "text/plain": [
       "0     Chris\n",
       "1     Jason\n",
       "2    Ethane\n",
       "3     Julia\n",
       "Name: first_name, dtype: object"
      ]
     },
     "execution_count": 12,
     "metadata": {},
     "output_type": "execute_result"
    }
   ],
   "source": [
    "# Select Columns (Series Object) this is a vector:\n",
    "# After that(create + load) a dataframe, we can select a part of data.\n",
    "# It's depends on notation!\n",
    "df.first_name\n",
    "# or df['first_name']"
   ]
  },
  {
   "cell_type": "code",
   "execution_count": 13,
   "metadata": {},
   "outputs": [
    {
     "data": {
      "text/html": [
       "<div>\n",
       "<style scoped>\n",
       "    .dataframe tbody tr th:only-of-type {\n",
       "        vertical-align: middle;\n",
       "    }\n",
       "\n",
       "    .dataframe tbody tr th {\n",
       "        vertical-align: top;\n",
       "    }\n",
       "\n",
       "    .dataframe thead th {\n",
       "        text-align: right;\n",
       "    }\n",
       "</style>\n",
       "<table border=\"1\" class=\"dataframe\">\n",
       "  <thead>\n",
       "    <tr style=\"text-align: right;\">\n",
       "      <th></th>\n",
       "      <th>first_name</th>\n",
       "      <th>last_name</th>\n",
       "    </tr>\n",
       "  </thead>\n",
       "  <tbody>\n",
       "    <tr>\n",
       "      <th>0</th>\n",
       "      <td>Chris</td>\n",
       "      <td>Ally</td>\n",
       "    </tr>\n",
       "    <tr>\n",
       "      <th>1</th>\n",
       "      <td>Jason</td>\n",
       "      <td>Sobsun</td>\n",
       "    </tr>\n",
       "    <tr>\n",
       "      <th>2</th>\n",
       "      <td>Ethane</td>\n",
       "      <td>Pasero</td>\n",
       "    </tr>\n",
       "    <tr>\n",
       "      <th>3</th>\n",
       "      <td>Julia</td>\n",
       "      <td>Ducruiz</td>\n",
       "    </tr>\n",
       "  </tbody>\n",
       "</table>\n",
       "</div>"
      ],
      "text/plain": [
       "  first_name last_name\n",
       "0      Chris      Ally\n",
       "1      Jason    Sobsun\n",
       "2     Ethane    Pasero\n",
       "3      Julia   Ducruiz"
      ]
     },
     "execution_count": 13,
     "metadata": {},
     "output_type": "execute_result"
    }
   ],
   "source": [
    "# Select Multiple Columns:\n",
    "# list of lists notation.\n",
    "df[['first_name', 'last_name']]"
   ]
  },
  {
   "cell_type": "code",
   "execution_count": 14,
   "metadata": {},
   "outputs": [
    {
     "name": "stdout",
     "output_type": "stream",
     "text": [
      "<class 'pandas.core.frame.DataFrame'>\n",
      "<class 'pandas.core.series.Series'>\n"
     ]
    }
   ],
   "source": [
    "# Check it out!\n",
    "# With type() we can see the difference between only one column and many columns.\n",
    "print(type(df[['first_name', 'last_name']])) #DataFrame\n",
    "print(type(df.first_name)) #Series"
   ]
  },
  {
   "cell_type": "code",
   "execution_count": 15,
   "metadata": {},
   "outputs": [
    {
     "name": "stdout",
     "output_type": "stream",
     "text": [
      "first_name    Ethane\n",
      "last_name     Pasero\n",
      "age               18\n",
      "scoring            5\n",
      "Name: 2, dtype: object\n",
      "<class 'pandas.core.series.Series'>\n"
     ]
    }
   ],
   "source": [
    "# Select Rows: df.iloc[] (Pandas function)\n",
    "# Remember that DataFrames are zero-indexed. The first row is accessed using df.iloc[0].\n",
    "print(df.iloc[2])\n",
    "\n",
    "# Observation! We have an Pandas Series Object…\n",
    "print(type(df.iloc[2]))"
   ]
  },
  {
   "cell_type": "code",
   "execution_count": 16,
   "metadata": {},
   "outputs": [
    {
     "name": "stdout",
     "output_type": "stream",
     "text": [
      "  first_name last_name  age  scoring\n",
      "2     Ethane    Pasero   18        5\n",
      "3      Julia   Ducruiz   37        1\n",
      "  first_name last_name  age  scoring\n",
      "2     Ethane    Pasero   18        5\n",
      "3      Julia   Ducruiz   37        1\n",
      "  first_name last_name  age  scoring\n",
      "2     Ethane    Pasero   18        5\n",
      "3      Julia   Ducruiz   37        1\n"
     ]
    }
   ],
   "source": [
    "# Select Multiple Rows: Many way! Indexing just the rows.\n",
    "# With a list of integers:\n",
    "print(df.iloc[[2,3]])\n",
    "\n",
    "# With a slice object:\n",
    "print(df.iloc[2:])\n",
    "\n",
    "# With a boolean mask the same length as the index:\n",
    "print(df.iloc[[False, False, True, True]])"
   ]
  },
  {
   "cell_type": "code",
   "execution_count": 17,
   "metadata": {},
   "outputs": [
    {
     "name": "stdout",
     "output_type": "stream",
     "text": [
      "  first_name last_name  age  scoring\n",
      "0      Chris      Ally   22        3\n",
      "1      Jason    Sobsun   45        4\n",
      "2     Ethane    Pasero   18        5\n",
      "3      Julia   Ducruiz   37        1\n",
      "####################################\n",
      "Ally\n",
      "----------------\n",
      "  last_name  age\n",
      "0      Ally   22\n",
      "1    Sobsun   45\n",
      "----------------\n",
      "first_name    Chris\n",
      "last_name      Ally\n",
      "age              22\n",
      "scoring           3\n",
      "Name: 0, dtype: object\n",
      "----------------\n",
      "  first_name  age\n",
      "0      Chris   22\n",
      "1      Jason   45\n",
      "2     Ethane   18\n",
      "3      Julia   37\n"
     ]
    }
   ],
   "source": [
    "# Select Multiple Rows: Many way! Indexing both axes.\n",
    "# You can mix the indexer types for the index and columns. Use : to select the entire axis.\n",
    "print(df)\n",
    "print(\"####################################\")\n",
    "# With scalar integers:\n",
    "print(df.iloc[0, 1])\n",
    "print(\"----------------\")\n",
    "# With lists of integers:\n",
    "print(df.iloc[[0, 1], [1, 2]])\n",
    "print(\"----------------\")\n",
    "# With slice objects:\n",
    "print(df.iloc[0, :])\n",
    "print(\"----------------\")\n",
    "# With a boolean array whose length matches the columns.\n",
    "print(df.iloc[:, [True, False, True]])"
   ]
  },
  {
   "cell_type": "code",
   "execution_count": 18,
   "metadata": {},
   "outputs": [
    {
     "name": "stdout",
     "output_type": "stream",
     "text": [
      "  first_name last_name  age  scoring\n",
      "1      Jason    Sobsun   45        4\n",
      "----------------\n",
      "  first_name last_name  age  scoring\n",
      "0      Chris      Ally   22        3\n",
      "2     Ethane    Pasero   18        5\n",
      "3      Julia   Ducruiz   37        1\n",
      "----------------\n",
      "  first_name last_name  age  scoring\n",
      "2     Ethane    Pasero   18        5\n"
     ]
    }
   ],
   "source": [
    "# Select Rows with condition: df[df.MyColumnName == column_value]\n",
    "print(df[df.age >40])\n",
    "print(\"----------------\")\n",
    "print(df[df.last_name != \"Sobsun\"])\n",
    "print(\"----------------\")\n",
    "print(df[df.first_name == \"Ethane\"])"
   ]
  },
  {
   "cell_type": "code",
   "execution_count": 19,
   "metadata": {},
   "outputs": [
    {
     "name": "stdout",
     "output_type": "stream",
     "text": [
      "  first_name last_name  age  scoring\n",
      "0      Chris      Ally   22        3\n",
      "2     Ethane    Pasero   18        5\n",
      "3      Julia   Ducruiz   37        1\n",
      "----------------\n",
      "  first_name last_name  age  scoring\n",
      "0      Chris      Ally   22        3\n",
      "3      Julia   Ducruiz   37        1\n"
     ]
    }
   ],
   "source": [
    "# Select Rows with manys conditions: \n",
    "print(df[(df.age < 40) | (df.last_name != \"Sobsun\")])\n",
    "print(\"----------------\")\n",
    "print(df[(df.age > 20) & (df.last_name != \"Sobsun\")])"
   ]
  },
  {
   "cell_type": "code",
   "execution_count": 20,
   "metadata": {},
   "outputs": [
    {
     "name": "stdout",
     "output_type": "stream",
     "text": [
      "0    False\n",
      "1    False\n",
      "2    False\n",
      "3     True\n",
      "Name: first_name, dtype: bool\n",
      "----------------\n",
      "  first_name last_name  age  scoring\n",
      "0      Chris      Ally   22        3\n",
      "3      Julia   Ducruiz   37        1\n"
     ]
    }
   ],
   "source": [
    "# Select Rows with logic function Series.isin(values):\n",
    "# Return a boolean Series showing whether each element in the Series matches \n",
    "# an element in the passed sequence of values exactly.\n",
    "print(df.first_name.isin(['Chirs', 'Julia']))\n",
    "print(\"----------------\")\n",
    "\n",
    "# Of course, we can print values…\n",
    "print(df[df.first_name.isin(['Chris', 'Julia'])])"
   ]
  },
  {
   "cell_type": "code",
   "execution_count": 21,
   "metadata": {},
   "outputs": [
    {
     "data": {
      "text/html": [
       "<div>\n",
       "<style scoped>\n",
       "    .dataframe tbody tr th:only-of-type {\n",
       "        vertical-align: middle;\n",
       "    }\n",
       "\n",
       "    .dataframe tbody tr th {\n",
       "        vertical-align: top;\n",
       "    }\n",
       "\n",
       "    .dataframe thead th {\n",
       "        text-align: right;\n",
       "    }\n",
       "</style>\n",
       "<table border=\"1\" class=\"dataframe\">\n",
       "  <thead>\n",
       "    <tr style=\"text-align: right;\">\n",
       "      <th></th>\n",
       "      <th>index</th>\n",
       "      <th>first_name</th>\n",
       "      <th>last_name</th>\n",
       "      <th>age</th>\n",
       "      <th>scoring</th>\n",
       "    </tr>\n",
       "  </thead>\n",
       "  <tbody>\n",
       "    <tr>\n",
       "      <th>0</th>\n",
       "      <td>0</td>\n",
       "      <td>Chris</td>\n",
       "      <td>Ally</td>\n",
       "      <td>22</td>\n",
       "      <td>3</td>\n",
       "    </tr>\n",
       "    <tr>\n",
       "      <th>1</th>\n",
       "      <td>2</td>\n",
       "      <td>Ethane</td>\n",
       "      <td>Pasero</td>\n",
       "      <td>18</td>\n",
       "      <td>5</td>\n",
       "    </tr>\n",
       "    <tr>\n",
       "      <th>2</th>\n",
       "      <td>3</td>\n",
       "      <td>Julia</td>\n",
       "      <td>Ducruiz</td>\n",
       "      <td>37</td>\n",
       "      <td>1</td>\n",
       "    </tr>\n",
       "  </tbody>\n",
       "</table>\n",
       "</div>"
      ],
      "text/plain": [
       "   index first_name last_name  age  scoring\n",
       "0      0      Chris      Ally   22        3\n",
       "1      2     Ethane    Pasero   18        5\n",
       "2      3      Julia   Ducruiz   37        1"
      ]
     },
     "execution_count": 21,
     "metadata": {},
     "output_type": "execute_result"
    }
   ],
   "source": [
    "# Set indices by .reset_index() method:\n",
    "# We get a new DataFrame with a new set of indices.\n",
    "df_new = df[(df.age < 40) | (df.last_name != \"Sobsun\")].reset_index()\n",
    "df_new"
   ]
  },
  {
   "cell_type": "code",
   "execution_count": 22,
   "metadata": {},
   "outputs": [
    {
     "data": {
      "text/html": [
       "<div>\n",
       "<style scoped>\n",
       "    .dataframe tbody tr th:only-of-type {\n",
       "        vertical-align: middle;\n",
       "    }\n",
       "\n",
       "    .dataframe tbody tr th {\n",
       "        vertical-align: top;\n",
       "    }\n",
       "\n",
       "    .dataframe thead th {\n",
       "        text-align: right;\n",
       "    }\n",
       "</style>\n",
       "<table border=\"1\" class=\"dataframe\">\n",
       "  <thead>\n",
       "    <tr style=\"text-align: right;\">\n",
       "      <th></th>\n",
       "      <th>first_name</th>\n",
       "      <th>last_name</th>\n",
       "      <th>age</th>\n",
       "      <th>scoring</th>\n",
       "    </tr>\n",
       "  </thead>\n",
       "  <tbody>\n",
       "    <tr>\n",
       "      <th>0</th>\n",
       "      <td>Chris</td>\n",
       "      <td>Ally</td>\n",
       "      <td>22</td>\n",
       "      <td>3</td>\n",
       "    </tr>\n",
       "    <tr>\n",
       "      <th>1</th>\n",
       "      <td>Ethane</td>\n",
       "      <td>Pasero</td>\n",
       "      <td>18</td>\n",
       "      <td>5</td>\n",
       "    </tr>\n",
       "    <tr>\n",
       "      <th>2</th>\n",
       "      <td>Julia</td>\n",
       "      <td>Ducruiz</td>\n",
       "      <td>37</td>\n",
       "      <td>1</td>\n",
       "    </tr>\n",
       "  </tbody>\n",
       "</table>\n",
       "</div>"
      ],
      "text/plain": [
       "  first_name last_name  age  scoring\n",
       "0      Chris      Ally   22        3\n",
       "1     Ethane    Pasero   18        5\n",
       "2      Julia   Ducruiz   37        1"
      ]
     },
     "execution_count": 22,
     "metadata": {},
     "output_type": "execute_result"
    }
   ],
   "source": [
    "# .reset_index() with keyword drop=True\n",
    "# Check out the index difference!\n",
    "df_new = df[(df.age < 40) | (df.last_name != \"Sobsun\")].reset_index(drop=True)\n",
    "df_new"
   ]
  }
 ],
 "metadata": {
  "kernelspec": {
   "display_name": "Python 3",
   "language": "python",
   "name": "python3"
  },
  "language_info": {
   "codemirror_mode": {
    "name": "ipython",
    "version": 3
   },
   "file_extension": ".py",
   "mimetype": "text/x-python",
   "name": "python",
   "nbconvert_exporter": "python",
   "pygments_lexer": "ipython3",
   "version": "3.6.4"
  }
 },
 "nbformat": 4,
 "nbformat_minor": 2
}
