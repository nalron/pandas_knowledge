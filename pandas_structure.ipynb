{
 "cells": [
  {
   "cell_type": "markdown",
   "metadata": {},
   "source": [
    "# Data Structures - just a quick view…\n",
    "We can see both main structures: Series & Data Frame.\n",
    "Check out these fundamental data structures in Pandas…  \n",
    "\n",
    "To get started, import NumPy and load Pandas into your namespace:"
   ]
  },
  {
   "cell_type": "code",
   "execution_count": 1,
   "metadata": {},
   "outputs": [],
   "source": [
    "import pandas as pd\n",
    "import numpy as np"
   ]
  },
  {
   "cell_type": "markdown",
   "metadata": {},
   "source": [
    "### Series\n",
    "Series is a one-dimensional labeled array capable of holding any data type (integers, strings, floating point numbers, Python objects, etc.). The axis labels are collectively referred to as the index. The basic method to create a Series is to call:\n",
    "\n",
    "If we want more details, we can check out : https://pandas.pydata.org/pandas-docs/stable/reference/api/pandas.Series.html#pandas.Series"
   ]
  },
  {
   "cell_type": "code",
   "execution_count": 2,
   "metadata": {},
   "outputs": [],
   "source": [
    "# data what is it? what types?\n",
    "# Python dict\n",
    "# ndarray\n",
    "# scalar value "
   ]
  },
  {
   "cell_type": "markdown",
   "metadata": {},
   "source": [
    "#### Data Type - Python dictionary"
   ]
  },
  {
   "cell_type": "code",
   "execution_count": 3,
   "metadata": {},
   "outputs": [
    {
     "name": "stdout",
     "output_type": "stream",
     "text": [
      "A    34.00\n",
      "B    65.87\n",
      "C    87.00\n",
      "D    71.10\n",
      "dtype: float64\n",
      "*****************\n",
      "B    65.87\n",
      "D    71.10\n",
      "A    34.00\n",
      "C    87.00\n",
      "dtype: float64\n"
     ]
    }
   ],
   "source": [
    "data = {'A': 34, 'B': 65.87, 'C': 87, 'D': 71.10}\n",
    "s = pd.Series(data)\n",
    "print(s)\n",
    "print('*****************')\n",
    "# We can sort out this index like this:\n",
    "\n",
    "s = pd.Series(data, index = ['B', 'D', 'A', 'C'])\n",
    "print(s)"
   ]
  },
  {
   "cell_type": "markdown",
   "metadata": {},
   "source": [
    "#### Data Type - Python ndarray"
   ]
  },
  {
   "cell_type": "code",
   "execution_count": 4,
   "metadata": {},
   "outputs": [
    {
     "data": {
      "text/plain": [
       "A   -0.657264\n",
       "B    0.346118\n",
       "C   -0.237893\n",
       "D    0.271167\n",
       "dtype: float64"
      ]
     },
     "execution_count": 4,
     "metadata": {},
     "output_type": "execute_result"
    }
   ],
   "source": [
    "# Important! We must have the same length for index and data…\n",
    "s = pd.Series(np.random.randn(4), index=['A', 'B', 'C', 'D'])\n",
    "s"
   ]
  },
  {
   "cell_type": "code",
   "execution_count": 5,
   "metadata": {},
   "outputs": [
    {
     "data": {
      "text/plain": [
       "0    1.846628\n",
       "1   -0.822215\n",
       "2   -0.000481\n",
       "3   -0.851538\n",
       "dtype: float64"
      ]
     },
     "execution_count": 5,
     "metadata": {},
     "output_type": "execute_result"
    }
   ],
   "source": [
    "# Otherwise without index:\n",
    "s = pd.Series(np.random.randn(4))\n",
    "s"
   ]
  },
  {
   "cell_type": "markdown",
   "metadata": {},
   "source": [
    "#### Data Type - Python scalar value"
   ]
  },
  {
   "cell_type": "code",
   "execution_count": 6,
   "metadata": {},
   "outputs": [
    {
     "data": {
      "text/plain": [
       "0    3.141593\n",
       "dtype: float64"
      ]
     },
     "execution_count": 6,
     "metadata": {},
     "output_type": "execute_result"
    }
   ],
   "source": [
    "import math as m\n",
    "s = pd.Series(m.pi)\n",
    "s"
   ]
  },
  {
   "cell_type": "code",
   "execution_count": 7,
   "metadata": {},
   "outputs": [
    {
     "data": {
      "text/plain": [
       "A    3.141593\n",
       "B    3.141593\n",
       "C    3.141593\n",
       "D    3.141593\n",
       "dtype: float64"
      ]
     },
     "execution_count": 7,
     "metadata": {},
     "output_type": "execute_result"
    }
   ],
   "source": [
    "# With Index, it's possible. This value will be repeated to match the length of index.\n",
    "s = pd.Series(m.pi, index=['A', 'B', 'C', 'D'])\n",
    "s"
   ]
  },
  {
   "cell_type": "code",
   "execution_count": 8,
   "metadata": {},
   "outputs": [
    {
     "data": {
      "text/plain": [
       "A    I mustn't copy on my colleague\n",
       "B    I mustn't copy on my colleague\n",
       "C    I mustn't copy on my colleague\n",
       "D    I mustn't copy on my colleague\n",
       "dtype: object"
      ]
     },
     "execution_count": 8,
     "metadata": {},
     "output_type": "execute_result"
    }
   ],
   "source": [
    "# Scalar value can be string, int, float, etc…\n",
    "s = pd.Series(\"I mustn't copy on my colleague\", index=['A', 'B', 'C', 'D'])\n",
    "s"
   ]
  },
  {
   "cell_type": "markdown",
   "metadata": {},
   "source": [
    "### DataFrame\n",
    "DF is a 2-dimensional labeled data structure with columns of potentially different types. It's generally the most commonly used pandas object. "
   ]
  },
  {
   "cell_type": "code",
   "execution_count": 9,
   "metadata": {},
   "outputs": [],
   "source": [
    "# mydata what is it? what types?\n",
    "# Python Dict of 1D ndarrays, lists, dicts, or Series\n",
    "# 2-D numpy.ndarray\n",
    "# Structured or record ndarray\n",
    "# Series\n",
    "# Another DataFrame"
   ]
  },
  {
   "cell_type": "markdown",
   "metadata": {},
   "source": [
    "#### Data Type - Series"
   ]
  },
  {
   "cell_type": "code",
   "execution_count": 10,
   "metadata": {},
   "outputs": [
    {
     "data": {
      "text/html": [
       "<div>\n",
       "<style scoped>\n",
       "    .dataframe tbody tr th:only-of-type {\n",
       "        vertical-align: middle;\n",
       "    }\n",
       "\n",
       "    .dataframe tbody tr th {\n",
       "        vertical-align: top;\n",
       "    }\n",
       "\n",
       "    .dataframe thead th {\n",
       "        text-align: right;\n",
       "    }\n",
       "</style>\n",
       "<table border=\"1\" class=\"dataframe\">\n",
       "  <thead>\n",
       "    <tr style=\"text-align: right;\">\n",
       "      <th></th>\n",
       "      <th>0</th>\n",
       "    </tr>\n",
       "  </thead>\n",
       "  <tbody>\n",
       "    <tr>\n",
       "      <th>0</th>\n",
       "      <td>0.000000</td>\n",
       "    </tr>\n",
       "    <tr>\n",
       "      <th>1</th>\n",
       "      <td>0.714286</td>\n",
       "    </tr>\n",
       "    <tr>\n",
       "      <th>2</th>\n",
       "      <td>1.428571</td>\n",
       "    </tr>\n",
       "    <tr>\n",
       "      <th>3</th>\n",
       "      <td>2.142857</td>\n",
       "    </tr>\n",
       "    <tr>\n",
       "      <th>4</th>\n",
       "      <td>2.857143</td>\n",
       "    </tr>\n",
       "    <tr>\n",
       "      <th>5</th>\n",
       "      <td>3.571429</td>\n",
       "    </tr>\n",
       "    <tr>\n",
       "      <th>6</th>\n",
       "      <td>4.285714</td>\n",
       "    </tr>\n",
       "    <tr>\n",
       "      <th>7</th>\n",
       "      <td>5.000000</td>\n",
       "    </tr>\n",
       "    <tr>\n",
       "      <th>8</th>\n",
       "      <td>5.714286</td>\n",
       "    </tr>\n",
       "    <tr>\n",
       "      <th>9</th>\n",
       "      <td>6.428571</td>\n",
       "    </tr>\n",
       "    <tr>\n",
       "      <th>10</th>\n",
       "      <td>7.142857</td>\n",
       "    </tr>\n",
       "    <tr>\n",
       "      <th>11</th>\n",
       "      <td>7.857143</td>\n",
       "    </tr>\n",
       "    <tr>\n",
       "      <th>12</th>\n",
       "      <td>8.571429</td>\n",
       "    </tr>\n",
       "    <tr>\n",
       "      <th>13</th>\n",
       "      <td>9.285714</td>\n",
       "    </tr>\n",
       "    <tr>\n",
       "      <th>14</th>\n",
       "      <td>10.000000</td>\n",
       "    </tr>\n",
       "  </tbody>\n",
       "</table>\n",
       "</div>"
      ],
      "text/plain": [
       "            0\n",
       "0    0.000000\n",
       "1    0.714286\n",
       "2    1.428571\n",
       "3    2.142857\n",
       "4    2.857143\n",
       "5    3.571429\n",
       "6    4.285714\n",
       "7    5.000000\n",
       "8    5.714286\n",
       "9    6.428571\n",
       "10   7.142857\n",
       "11   7.857143\n",
       "12   8.571429\n",
       "13   9.285714\n",
       "14  10.000000"
      ]
     },
     "execution_count": 10,
     "metadata": {},
     "output_type": "execute_result"
    }
   ],
   "source": [
    "mydata = pd.Series(np.linspace(0, 10, 15))\n",
    "df = pd.DataFrame(mydata)\n",
    "df"
   ]
  },
  {
   "cell_type": "markdown",
   "metadata": {},
   "source": [
    "#### Data Type - Dictionary of Series"
   ]
  },
  {
   "cell_type": "code",
   "execution_count": 11,
   "metadata": {},
   "outputs": [
    {
     "data": {
      "text/html": [
       "<div>\n",
       "<style scoped>\n",
       "    .dataframe tbody tr th:only-of-type {\n",
       "        vertical-align: middle;\n",
       "    }\n",
       "\n",
       "    .dataframe tbody tr th {\n",
       "        vertical-align: top;\n",
       "    }\n",
       "\n",
       "    .dataframe thead th {\n",
       "        text-align: right;\n",
       "    }\n",
       "</style>\n",
       "<table border=\"1\" class=\"dataframe\">\n",
       "  <thead>\n",
       "    <tr style=\"text-align: right;\">\n",
       "      <th></th>\n",
       "      <th>Series 1</th>\n",
       "      <th>Series 2</th>\n",
       "    </tr>\n",
       "  </thead>\n",
       "  <tbody>\n",
       "    <tr>\n",
       "      <th>0</th>\n",
       "      <td>23</td>\n",
       "      <td>-23</td>\n",
       "    </tr>\n",
       "    <tr>\n",
       "      <th>1</th>\n",
       "      <td>34</td>\n",
       "      <td>-34</td>\n",
       "    </tr>\n",
       "    <tr>\n",
       "      <th>2</th>\n",
       "      <td>87</td>\n",
       "      <td>-87</td>\n",
       "    </tr>\n",
       "    <tr>\n",
       "      <th>3</th>\n",
       "      <td>-35</td>\n",
       "      <td>35</td>\n",
       "    </tr>\n",
       "  </tbody>\n",
       "</table>\n",
       "</div>"
      ],
      "text/plain": [
       "   Series 1  Series 2\n",
       "0        23       -23\n",
       "1        34       -34\n",
       "2        87       -87\n",
       "3       -35        35"
      ]
     },
     "execution_count": 11,
     "metadata": {},
     "output_type": "execute_result"
    }
   ],
   "source": [
    "mydata = {\n",
    "    \"Series 1\" : pd.Series([23, 34, 87, -35]),\n",
    "    \"Series 2\" : pd.Series([-23, -34, -87, 35])}\n",
    "\n",
    "df = pd.DataFrame(mydata)\n",
    "df"
   ]
  },
  {
   "cell_type": "markdown",
   "metadata": {},
   "source": [
    "#### Data Type - Dictionary of ndarrays / lists"
   ]
  },
  {
   "cell_type": "code",
   "execution_count": 12,
   "metadata": {},
   "outputs": [
    {
     "data": {
      "text/html": [
       "<div>\n",
       "<style scoped>\n",
       "    .dataframe tbody tr th:only-of-type {\n",
       "        vertical-align: middle;\n",
       "    }\n",
       "\n",
       "    .dataframe tbody tr th {\n",
       "        vertical-align: top;\n",
       "    }\n",
       "\n",
       "    .dataframe thead th {\n",
       "        text-align: right;\n",
       "    }\n",
       "</style>\n",
       "<table border=\"1\" class=\"dataframe\">\n",
       "  <thead>\n",
       "    <tr style=\"text-align: right;\">\n",
       "      <th></th>\n",
       "      <th>list1</th>\n",
       "      <th>list2</th>\n",
       "      <th>list3</th>\n",
       "    </tr>\n",
       "  </thead>\n",
       "  <tbody>\n",
       "    <tr>\n",
       "      <th>0</th>\n",
       "      <td>1.3</td>\n",
       "      <td>2.5</td>\n",
       "      <td>3.3</td>\n",
       "    </tr>\n",
       "    <tr>\n",
       "      <th>1</th>\n",
       "      <td>1.4</td>\n",
       "      <td>2.8</td>\n",
       "      <td>3.6</td>\n",
       "    </tr>\n",
       "    <tr>\n",
       "      <th>2</th>\n",
       "      <td>1.9</td>\n",
       "      <td>2.1</td>\n",
       "      <td>3.9</td>\n",
       "    </tr>\n",
       "    <tr>\n",
       "      <th>3</th>\n",
       "      <td>1.8</td>\n",
       "      <td>2.2</td>\n",
       "      <td>3.2</td>\n",
       "    </tr>\n",
       "    <tr>\n",
       "      <th>4</th>\n",
       "      <td>1.5</td>\n",
       "      <td>2.7</td>\n",
       "      <td>3.9</td>\n",
       "    </tr>\n",
       "  </tbody>\n",
       "</table>\n",
       "</div>"
      ],
      "text/plain": [
       "   list1  list2  list3\n",
       "0    1.3    2.5    3.3\n",
       "1    1.4    2.8    3.6\n",
       "2    1.9    2.1    3.9\n",
       "3    1.8    2.2    3.2\n",
       "4    1.5    2.7    3.9"
      ]
     },
     "execution_count": 12,
     "metadata": {},
     "output_type": "execute_result"
    }
   ],
   "source": [
    "mydata = {\n",
    "    'list1' : [1.3, 1.4, 1.9, 1.8, 1.5],\n",
    "    'list2' : [2.5, 2.8, 2.1, 2.2, 2.7],\n",
    "    'list3' : [3.3, 3.6, 3.9, 3.2, 3.9]}\n",
    "\n",
    "df = pd.DataFrame(mydata)\n",
    "df"
   ]
  },
  {
   "cell_type": "markdown",
   "metadata": {},
   "source": [
    "#### Data Type - Dictionary of Tuples"
   ]
  },
  {
   "cell_type": "code",
   "execution_count": 13,
   "metadata": {},
   "outputs": [
    {
     "data": {
      "text/html": [
       "<div>\n",
       "<style scoped>\n",
       "    .dataframe tbody tr th:only-of-type {\n",
       "        vertical-align: middle;\n",
       "    }\n",
       "\n",
       "    .dataframe tbody tr th {\n",
       "        vertical-align: top;\n",
       "    }\n",
       "\n",
       "    .dataframe thead tr th {\n",
       "        text-align: left;\n",
       "    }\n",
       "</style>\n",
       "<table border=\"1\" class=\"dataframe\">\n",
       "  <thead>\n",
       "    <tr>\n",
       "      <th></th>\n",
       "      <th></th>\n",
       "      <th>X</th>\n",
       "      <th>Z</th>\n",
       "    </tr>\n",
       "    <tr>\n",
       "      <th></th>\n",
       "      <th></th>\n",
       "      <th>Y</th>\n",
       "      <th>W</th>\n",
       "    </tr>\n",
       "  </thead>\n",
       "  <tbody>\n",
       "    <tr>\n",
       "      <th>x1</th>\n",
       "      <th>y1</th>\n",
       "      <td>635.0</td>\n",
       "      <td>NaN</td>\n",
       "    </tr>\n",
       "    <tr>\n",
       "      <th>x2</th>\n",
       "      <th>y2</th>\n",
       "      <td>863.0</td>\n",
       "      <td>NaN</td>\n",
       "    </tr>\n",
       "    <tr>\n",
       "      <th>z1</th>\n",
       "      <th>w1</th>\n",
       "      <td>NaN</td>\n",
       "      <td>232.0</td>\n",
       "    </tr>\n",
       "    <tr>\n",
       "      <th>z2</th>\n",
       "      <th>w2</th>\n",
       "      <td>NaN</td>\n",
       "      <td>536.0</td>\n",
       "    </tr>\n",
       "  </tbody>\n",
       "</table>\n",
       "</div>"
      ],
      "text/plain": [
       "           X      Z\n",
       "           Y      W\n",
       "x1 y1  635.0    NaN\n",
       "x2 y2  863.0    NaN\n",
       "z1 w1    NaN  232.0\n",
       "z2 w2    NaN  536.0"
      ]
     },
     "execution_count": 13,
     "metadata": {},
     "output_type": "execute_result"
    }
   ],
   "source": [
    "mydata = {\n",
    "    ('X', 'Y'): {('x1', 'y1'): 635, ('x2', 'y2'): 863},\n",
    "    ('Z', 'W'): {('z1', 'w1'): 232, ('z2', 'w2'): 536}}\n",
    "\n",
    "df = pd.DataFrame(mydata)\n",
    "df"
   ]
  },
  {
   "cell_type": "markdown",
   "metadata": {},
   "source": [
    "#### Data Type - DF"
   ]
  },
  {
   "cell_type": "code",
   "execution_count": 14,
   "metadata": {},
   "outputs": [
    {
     "data": {
      "text/html": [
       "<div>\n",
       "<style scoped>\n",
       "    .dataframe tbody tr th:only-of-type {\n",
       "        vertical-align: middle;\n",
       "    }\n",
       "\n",
       "    .dataframe tbody tr th {\n",
       "        vertical-align: top;\n",
       "    }\n",
       "\n",
       "    .dataframe thead th {\n",
       "        text-align: right;\n",
       "    }\n",
       "</style>\n",
       "<table border=\"1\" class=\"dataframe\">\n",
       "  <thead>\n",
       "    <tr style=\"text-align: right;\">\n",
       "      <th></th>\n",
       "      <th>0</th>\n",
       "      <th>1</th>\n",
       "      <th>2</th>\n",
       "      <th>3</th>\n",
       "      <th>4</th>\n",
       "      <th>5</th>\n",
       "      <th>6</th>\n",
       "      <th>7</th>\n",
       "      <th>8</th>\n",
       "      <th>9</th>\n",
       "      <th>10</th>\n",
       "    </tr>\n",
       "  </thead>\n",
       "  <tbody>\n",
       "    <tr>\n",
       "      <th>0</th>\n",
       "      <td>2.101323</td>\n",
       "      <td>0.610984</td>\n",
       "      <td>-0.477191</td>\n",
       "      <td>-0.182874</td>\n",
       "      <td>0.390301</td>\n",
       "      <td>1.285563</td>\n",
       "      <td>0.308298</td>\n",
       "      <td>3.020828</td>\n",
       "      <td>0.100233</td>\n",
       "      <td>1.237471</td>\n",
       "      <td>-0.009396</td>\n",
       "    </tr>\n",
       "    <tr>\n",
       "      <th>1</th>\n",
       "      <td>1.547770</td>\n",
       "      <td>0.146772</td>\n",
       "      <td>0.803363</td>\n",
       "      <td>1.929486</td>\n",
       "      <td>1.215845</td>\n",
       "      <td>-0.229003</td>\n",
       "      <td>0.567743</td>\n",
       "      <td>0.261374</td>\n",
       "      <td>0.723223</td>\n",
       "      <td>2.040749</td>\n",
       "      <td>-0.377977</td>\n",
       "    </tr>\n",
       "    <tr>\n",
       "      <th>2</th>\n",
       "      <td>2.381871</td>\n",
       "      <td>0.709600</td>\n",
       "      <td>0.941984</td>\n",
       "      <td>2.998033</td>\n",
       "      <td>1.531994</td>\n",
       "      <td>0.968823</td>\n",
       "      <td>2.078014</td>\n",
       "      <td>1.384921</td>\n",
       "      <td>1.906296</td>\n",
       "      <td>0.883294</td>\n",
       "      <td>1.720326</td>\n",
       "    </tr>\n",
       "    <tr>\n",
       "      <th>3</th>\n",
       "      <td>1.604256</td>\n",
       "      <td>2.455723</td>\n",
       "      <td>1.043167</td>\n",
       "      <td>1.954529</td>\n",
       "      <td>1.953163</td>\n",
       "      <td>0.261678</td>\n",
       "      <td>0.689076</td>\n",
       "      <td>-0.123313</td>\n",
       "      <td>0.583488</td>\n",
       "      <td>1.945945</td>\n",
       "      <td>1.225785</td>\n",
       "    </tr>\n",
       "    <tr>\n",
       "      <th>4</th>\n",
       "      <td>1.102729</td>\n",
       "      <td>1.606578</td>\n",
       "      <td>0.739930</td>\n",
       "      <td>1.451351</td>\n",
       "      <td>-0.009504</td>\n",
       "      <td>0.807432</td>\n",
       "      <td>0.850076</td>\n",
       "      <td>2.552419</td>\n",
       "      <td>0.905570</td>\n",
       "      <td>0.701972</td>\n",
       "      <td>-0.256693</td>\n",
       "    </tr>\n",
       "    <tr>\n",
       "      <th>5</th>\n",
       "      <td>1.503655</td>\n",
       "      <td>0.016713</td>\n",
       "      <td>2.354842</td>\n",
       "      <td>1.779966</td>\n",
       "      <td>3.527988</td>\n",
       "      <td>-0.103398</td>\n",
       "      <td>1.861261</td>\n",
       "      <td>1.616228</td>\n",
       "      <td>1.803759</td>\n",
       "      <td>1.562572</td>\n",
       "      <td>2.961358</td>\n",
       "    </tr>\n",
       "  </tbody>\n",
       "</table>\n",
       "</div>"
      ],
      "text/plain": [
       "         0         1         2         3         4         5         6   \\\n",
       "0  2.101323  0.610984 -0.477191 -0.182874  0.390301  1.285563  0.308298   \n",
       "1  1.547770  0.146772  0.803363  1.929486  1.215845 -0.229003  0.567743   \n",
       "2  2.381871  0.709600  0.941984  2.998033  1.531994  0.968823  2.078014   \n",
       "3  1.604256  2.455723  1.043167  1.954529  1.953163  0.261678  0.689076   \n",
       "4  1.102729  1.606578  0.739930  1.451351 -0.009504  0.807432  0.850076   \n",
       "5  1.503655  0.016713  2.354842  1.779966  3.527988 -0.103398  1.861261   \n",
       "\n",
       "         7         8         9         10  \n",
       "0  3.020828  0.100233  1.237471 -0.009396  \n",
       "1  0.261374  0.723223  2.040749 -0.377977  \n",
       "2  1.384921  1.906296  0.883294  1.720326  \n",
       "3 -0.123313  0.583488  1.945945  1.225785  \n",
       "4  2.552419  0.905570  0.701972 -0.256693  \n",
       "5  1.616228  1.803759  1.562572  2.961358  "
      ]
     },
     "execution_count": 14,
     "metadata": {},
     "output_type": "execute_result"
    }
   ],
   "source": [
    "df1 = pd.DataFrame(np.random.randn(6, 11))\n",
    "df2 = pd.DataFrame(np.ones((6,11)))\n",
    "mydata = df1 + df2\n",
    "\n",
    "df = pd.DataFrame(mydata)\n",
    "df"
   ]
  }
 ],
 "metadata": {
  "kernelspec": {
   "display_name": "Python 3",
   "language": "python",
   "name": "python3"
  },
  "language_info": {
   "codemirror_mode": {
    "name": "ipython",
    "version": 3
   },
   "file_extension": ".py",
   "mimetype": "text/x-python",
   "name": "python",
   "nbconvert_exporter": "python",
   "pygments_lexer": "ipython3",
   "version": "3.6.4"
  }
 },
 "nbformat": 4,
 "nbformat_minor": 2
}
